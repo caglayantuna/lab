{
 "cells": [
  {
   "cell_type": "code",
   "execution_count": 1,
   "metadata": {},
   "outputs": [],
   "source": [
    "from constrained_parafac_new import initialize_constraints_and_parameters"
   ]
  },
  {
   "cell_type": "code",
   "execution_count": 2,
   "metadata": {},
   "outputs": [
    {
     "name": "stdout",
     "output_type": "stream",
     "text": [
      "['non_negative', 'non_negative', 'non_negative']\n",
      "[None, None, None]\n"
     ]
    }
   ],
   "source": [
    "constraints, parameters=initialize_constraints_and_parameters(3, non_negative=True)\n",
    "print(constraints)\n",
    "print(parameters)"
   ]
  },
  {
   "cell_type": "code",
   "execution_count": 3,
   "metadata": {},
   "outputs": [
    {
     "name": "stdout",
     "output_type": "stream",
     "text": [
      "['sparse_l1', 'non_negative', 'sparse_l1']\n",
      "[0.2, None, 0.3]\n"
     ]
    }
   ],
   "source": [
    "constraints, parameters=initialize_constraints_and_parameters(3, non_negative={1:True}, l1_reg={0:0.2, 2:0.3})\n",
    "print(constraints)\n",
    "print(parameters)"
   ]
  },
  {
   "cell_type": "code",
   "execution_count": 4,
   "metadata": {},
   "outputs": [
    {
     "name": "stdout",
     "output_type": "stream",
     "text": [
      "['monotonicity', 'monotonicity', 'monotonicity']\n",
      "[None, None, None]\n"
     ]
    }
   ],
   "source": [
    "constraints, parameters=initialize_constraints_and_parameters(3, monotonicity=True)\n",
    "print(constraints)\n",
    "print(parameters)"
   ]
  },
  {
   "cell_type": "code",
   "execution_count": 5,
   "metadata": {},
   "outputs": [
    {
     "name": "stdout",
     "output_type": "stream",
     "text": [
      "['l2', 'l2', 'l2']\n",
      "[0.1, 0.1, 0.1]\n"
     ]
    }
   ],
   "source": [
    "constraints, parameters=initialize_constraints_and_parameters(3, l2_reg=0.1)\n",
    "print(constraints)\n",
    "print(parameters)"
   ]
  },
  {
   "cell_type": "code",
   "execution_count": 6,
   "metadata": {},
   "outputs": [
    {
     "name": "stdout",
     "output_type": "stream",
     "text": [
      "['sparse_l1', 'non_negative', 'l2_square']\n",
      "[0.2, None, 0.1]\n"
     ]
    }
   ],
   "source": [
    "constraints, parameters=initialize_constraints_and_parameters(3, non_negative={1:True}, \n",
    "                                                              l1_reg={0:0.2}, l2_square={2:0.1})\n",
    "print(constraints)\n",
    "print(parameters)"
   ]
  },
  {
   "cell_type": "code",
   "execution_count": 7,
   "metadata": {},
   "outputs": [
    {
     "name": "stdout",
     "output_type": "stream",
     "text": [
      "['sparse_l1', 'sparse_l1', 'sparse_l1']\n",
      "[0.1, 0.2, 0.3]\n"
     ]
    }
   ],
   "source": [
    "constraints, parameters=initialize_constraints_and_parameters(3, l1_reg=[0.1, 0.2, 0.3])\n",
    "print(constraints)\n",
    "print(parameters)"
   ]
  },
  {
   "cell_type": "code",
   "execution_count": 8,
   "metadata": {},
   "outputs": [
    {
     "name": "stdout",
     "output_type": "stream",
     "text": [
      "['non_negative', None, 'non_negative']\n",
      "[None, None, None]\n"
     ]
    }
   ],
   "source": [
    "constraints, parameters=initialize_constraints_and_parameters(3, non_negative={0:True, 2:True})\n",
    "print(constraints)\n",
    "print(parameters)"
   ]
  },
  {
   "cell_type": "code",
   "execution_count": 9,
   "metadata": {},
   "outputs": [
    {
     "name": "stdout",
     "output_type": "stream",
     "text": [
      "['sparse_l1', 'l2_square', None]\n",
      "[0.2, 0.1, None]\n"
     ]
    },
    {
     "name": "stderr",
     "output_type": "stream",
     "text": [
      "/home/ctuna/tensoptly/AOADMM/constrained_parafac_new.py:189: UserWarning: You selected two constraints for the same mode. Consider to check your input\n",
      "  warnings.warn('You selected two constraints for the same mode. Consider to check your input')\n"
     ]
    }
   ],
   "source": [
    "constraints, parameters=initialize_constraints_and_parameters(3, non_negative={1:True}, \n",
    "                                                              l1_reg={0:0.2}, l2_square={1:0.1})\n",
    "print(constraints)\n",
    "print(parameters)"
   ]
  }
 ],
 "metadata": {
  "kernelspec": {
   "display_name": "Python 3",
   "language": "python",
   "name": "python3"
  },
  "language_info": {
   "codemirror_mode": {
    "name": "ipython",
    "version": 3
   },
   "file_extension": ".py",
   "mimetype": "text/x-python",
   "name": "python",
   "nbconvert_exporter": "python",
   "pygments_lexer": "ipython3",
   "version": "3.8.7"
  }
 },
 "nbformat": 4,
 "nbformat_minor": 4
}
