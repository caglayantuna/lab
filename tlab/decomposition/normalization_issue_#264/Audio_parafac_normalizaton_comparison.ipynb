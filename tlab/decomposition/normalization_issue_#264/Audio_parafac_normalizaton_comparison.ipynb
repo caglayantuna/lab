{
 "cells": [
  {
   "cell_type": "code",
   "execution_count": 1,
   "metadata": {},
   "outputs": [
    {
     "name": "stderr",
     "output_type": "stream",
     "text": [
      "/usr/local/lib64/python3.8/site-packages/madmom/io/audio.py:493: WavFileWarning: Chunk (non-data) not understood, skipping it.\n",
      "  file_sample_rate, signal = wavfile.read(filename, mmap=True)\n",
      "/usr/local/lib64/python3.8/site-packages/numpy/core/_asarray.py:83: VisibleDeprecationWarning: Creating an ndarray from ragged nested sequences (which is a list-or-tuple of lists-or-tuples-or ndarrays with different lengths or shapes) is deprecated. If you meant to do this, you must specify 'dtype=object' when creating the ndarray\n",
      "  return array(a, dtype, copy=False, order=order)\n"
     ]
    },
    {
     "name": "stdout",
     "output_type": "stream",
     "text": [
      "hop_length a 44100Hz = 512, normal ?\n"
     ]
    }
   ],
   "source": [
    "from tensorly.metrics.regression import RMSE\n",
    "from tensorly.decomposition import parafac\n",
    "import time\n",
    "import scipy.io\n",
    "import tensorly as tl\n",
    "import matplotlib.pyplot as plt\n",
    "import matplotlib.cm as cm\n",
    "from tensorly.cp_tensor import CPTensor\n",
    "from parafac_normalization_comparison import *\n",
    "import musicntd.model.features as features\n",
    "import musicntd.data_manipulation as dm\n",
    "import musicntd.tensor_factory as tf\n",
    "import soundfile as sf\n",
    "#audio\n",
    "data,sampling_rate = sf.read('/home/ctuna/tensoptly/benchmark_data/Audio/The Beatles - Come Together.wav')\n",
    "\n",
    "#Parameters\n",
    "rank=10\n",
    "init='random'\n",
    "hop_length = 512\n",
    "n_fft = hop_length * 4\n",
    "hop_length_seconds = hop_length/sampling_rate\n",
    "\n",
    "\n",
    "stft_spec = features.get_spectrogram(data[:,0], sampling_rate, \n",
    "                                     feature=\"stft\", n_fft = n_fft, hop_length = hop_length)\n",
    "bars = dm.get_bars_from_audio('/home/ctuna/tensoptly/benchmark_data/Audio/The Beatles - Come Together.wav')\n",
    "\n",
    "tensor = tf.tensorize_barwise(stft_spec, bars, hop_length_seconds, 40)"
   ]
  },
  {
   "cell_type": "markdown",
   "metadata": {},
   "source": [
    "1. Method from PR\n",
    "2. Inner loop normalization with last factor normalization after inner loop\n",
    "3. Normalization at the end\n",
    "4. 2 and 3 together\n",
    "5. Current tensorly normalizationn"
   ]
  },
  {
   "cell_type": "code",
   "execution_count": 2,
   "metadata": {},
   "outputs": [],
   "source": [
    "#normalized improved parafac result\n",
    "tic = time.time()\n",
    "tensornorm1, errorsnorm1 = parafac_normalize_1(tensor, rank=rank, init=init, normalize_factors=True, return_errors=True)\n",
    "weightsnorm1, factorsnorm1 = tensornorm1\n",
    "cp_reconstructionnorm1 = tl.cp_to_tensor((weightsnorm1, factorsnorm1))\n",
    "time_cp1 = time.time()-tic\n",
    "\n",
    "\n",
    "#normalized improved parafac result\n",
    "tic = time.time()\n",
    "tensornorm2, errorsnorm2 = parafac_normalize_2(tensor, rank=rank, init=init, normalize_factors=True, return_errors=True)\n",
    "weightsnorm2, factorsnorm2 = tensornorm2\n",
    "cp_reconstructionnorm2 = tl.cp_to_tensor((weightsnorm2, factorsnorm2))\n",
    "time_cp2 = time.time()-tic\n",
    "\n",
    "\n",
    "#normalized improved parafac result\n",
    "tic = time.time()\n",
    "tensornorm3, errorsnorm3 = parafac_normalize_3(tensor, rank=rank, init=init, normalize_factors=True, return_errors=True)\n",
    "weightsnorm3, factorsnorm3 = tensornorm3\n",
    "cp_reconstructionnorm3 = tl.cp_to_tensor((weightsnorm3, factorsnorm3))\n",
    "time_cp3 = time.time()-tic\n",
    "\n",
    "\n",
    "#normalized improved parafac result\n",
    "tic = time.time()\n",
    "tensornorm4, errorsnorm4 = parafac_normalize_4(tensor, rank=rank, init=init, normalize_factors=True, return_errors=True)\n",
    "weightsnorm4, factorsnorm4 = tensornorm4\n",
    "cp_reconstructionnorm4 = tl.cp_to_tensor((weightsnorm4, factorsnorm4))\n",
    "time_cp4 = time.time()-tic\n",
    "\n",
    "#normalized improved parafac result\n",
    "tic = time.time()\n",
    "tensornorm5, errorsnorm5 = parafac(tensor, rank=rank, init=init, normalize_factors=True, return_errors=True)\n",
    "weightsnorm5, factorsnorm5 = tensornorm5\n",
    "cp_reconstructionnorm5 = tl.cp_to_tensor((weightsnorm5, factorsnorm5))\n",
    "time_cp5 = time.time()-tic"
   ]
  },
  {
   "cell_type": "code",
   "execution_count": 3,
   "metadata": {},
   "outputs": [
    {
     "data": {
      "image/png": "[encoded data removed]",
      "text/plain": [
       "<Figure size 720x288 with 1 Axes>"
      ]
     },
     "metadata": {
      "needs_background": "light"
     },
     "output_type": "display_data"
    }
   ],
   "source": [
    "each_iteration(errorsnorm1, errorsnorm2, errorsnorm3, errorsnorm4, errorsnorm5)"
   ]
  },
  {
   "cell_type": "code",
   "execution_count": 4,
   "metadata": {},
   "outputs": [
    {
     "name": "stdout",
     "output_type": "stream",
     "text": [
      "[323672.47 184921.06 369814.28 346773.12 390563.66]\n",
      "[272588.38 133722.5  376102.06 215450.12 252000.3 ]\n",
      "[364063.22 525463.5  483019.66 336517.28 454274.03]\n",
      "[246404.12 305024.12 509604.1  422376.2  665266.94]\n",
      "[252365.44 227960.02 363352.78 743706.4  646487.56]\n"
     ]
    }
   ],
   "source": [
    "print(weightsnorm1[:5])\n",
    "print(weightsnorm2[:5])\n",
    "print(weightsnorm3[:5])\n",
    "print(weightsnorm4[:5])\n",
    "print(weightsnorm5[:5])"
   ]
  },
  {
   "cell_type": "code",
   "execution_count": 5,
   "metadata": {},
   "outputs": [
    {
     "name": "stdout",
     "output_type": "stream",
     "text": [
      "0.0014120829 0.078468174 0.046030037\n",
      "0.0012279634 0.077498175 0.055359647\n",
      "0.0013430404 0.09980422 0.046225857\n",
      "0.0012794543 0.0803625 0.058514018\n",
      "0.0018876971 0.10370991 0.03229199\n"
     ]
    }
   ],
   "source": [
    "print(tl.mean(factorsnorm1[0]), tl.mean(factorsnorm1[1]), tl.mean(factorsnorm1[2]))\n",
    "print(tl.mean(factorsnorm2[0]), tl.mean(factorsnorm2[1]), tl.mean(factorsnorm2[2]))\n",
    "print(tl.mean(factorsnorm3[0]), tl.mean(factorsnorm3[1]), tl.mean(factorsnorm3[2]))\n",
    "print(tl.mean(factorsnorm4[0]), tl.mean(factorsnorm4[1]), tl.mean(factorsnorm4[2]))\n",
    "print(tl.mean(factorsnorm5[0]), tl.mean(factorsnorm5[1]), tl.mean(factorsnorm5[2]))"
   ]
  },
  {
   "cell_type": "code",
   "execution_count": 6,
   "metadata": {},
   "outputs": [
    {
     "name": "stdout",
     "output_type": "stream",
     "text": [
      "162.05089\n",
      "163.33656\n",
      "163.83968\n",
      "163.61522\n",
      "163.41693\n"
     ]
    }
   ],
   "source": [
    "print(RMSE(tensor,cp_reconstructionnorm1))\n",
    "print(RMSE(tensor,cp_reconstructionnorm2))\n",
    "print(RMSE(tensor,cp_reconstructionnorm3))\n",
    "print(RMSE(tensor,cp_reconstructionnorm4))\n",
    "print(RMSE(tensor,cp_reconstructionnorm5))"
   ]
  },
  {
   "cell_type": "code",
   "execution_count": 7,
   "metadata": {},
   "outputs": [
    {
     "name": "stdout",
     "output_type": "stream",
     "text": [
      "6.996006965637207\n",
      "6.786243438720703\n",
      "6.95613956451416\n",
      "6.199885606765747\n",
      "6.37337589263916\n"
     ]
    }
   ],
   "source": [
    "print(str(time_cp1))\n",
    "print(str(time_cp2))\n",
    "print(str(time_cp3))\n",
    "print(str(time_cp4))\n",
    "print(str(time_cp5))"
   ]
  }
 ],
 "metadata": {
  "kernelspec": {
   "display_name": "Python 3",
   "language": "python",
   "name": "python3"
  },
  "language_info": {
   "codemirror_mode": {
    "name": "ipython",
    "version": 3
   },
   "file_extension": ".py",
   "mimetype": "text/x-python",
   "name": "python",
   "nbconvert_exporter": "python",
   "pygments_lexer": "ipython3",
   "version": "3.8.7"
  }
 },
 "nbformat": 4,
 "nbformat_minor": 4
}
