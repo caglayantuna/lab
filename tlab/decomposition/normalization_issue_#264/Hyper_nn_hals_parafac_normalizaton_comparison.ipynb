{
 "cells": [
  {
   "cell_type": "code",
   "execution_count": 1,
   "metadata": {},
   "outputs": [],
   "source": [
    "from tensorly.metrics.regression import RMSE\n",
    "import time\n",
    "import scipy.io\n",
    "import tensorly as tl\n",
    "import matplotlib.pyplot as plt\n",
    "import matplotlib.cm as cm\n",
    "from tensorly.cp_tensor import CPTensor\n",
    "from nn_hals_parafac_normalization_comparison import *\n",
    "#parameters\n",
    "init='svd'\n",
    "svd='numpy_svd'\n",
    "rank=10\n",
    "\n",
    "#hyperspectral image\n",
    "mat = scipy.io.loadmat('/home/ctuna/tensoptly/benchmark_data/Hyperspectral/Indian_pines_corrected.mat')\n",
    "image=mat['indian_pines_corrected']\n",
    "\n",
    "tensor=tl.tensor(image,dtype='float')"
   ]
  },
  {
   "cell_type": "markdown",
   "metadata": {},
   "source": [
    "1. Method from PR\n",
    "2. Inner loop normalization with last factor normalization after inner loop\n",
    "3. Normalization at the end\n",
    "4. 2 and 3 together"
   ]
  },
  {
   "cell_type": "code",
   "execution_count": 2,
   "metadata": {},
   "outputs": [],
   "source": [
    "#normalized improved nonnegative parafac hals result\n",
    "tic = time.time()\n",
    "tensornorm1, errorsnorm1 = nn_hals_normalize1(tensor, rank=rank, init=init, normalize_factors=True, return_errors=True, n_iter_max=100)\n",
    "weightsnorm1, factorsnorm1 = tensornorm1\n",
    "cp_reconstructionnorm1 = tl.cp_to_tensor((weightsnorm1, factorsnorm1))\n",
    "time_cp1 = time.time()-tic\n",
    "\n",
    "#normalized improved nonnegative parafac hals result\n",
    "tic = time.time()\n",
    "tensornorm2, errorsnorm2 = nn_hals_normalize2(tensor, rank=rank, init=init, normalize_factors=True, return_errors=True, n_iter_max=100)\n",
    "weightsnorm2, factorsnorm2 = tensornorm2\n",
    "cp_reconstructionnorm2 = tl.cp_to_tensor((weightsnorm2, factorsnorm2))\n",
    "time_cp2 = time.time()-tic\n",
    "\n",
    "#normalized improved nonnegative parafac hals result\n",
    "tic = time.time()\n",
    "tensornorm3, errorsnorm3 = nn_hals_normalize3(tensor, rank=rank, init=init, normalize_factors=True, return_errors=True, n_iter_max=100)\n",
    "weightsnorm3, factorsnorm3 = tensornorm3\n",
    "cp_reconstructionnorm3 = tl.cp_to_tensor((weightsnorm3, factorsnorm3))\n",
    "time_cp3 = time.time()-tic\n",
    "\n",
    "#normalized improved nonnegative parafac hals result\n",
    "tic = time.time()\n",
    "tensornorm4, errorsnorm4 = nn_hals_normalize4(tensor, rank=rank, init=init, normalize_factors=True, return_errors=True, n_iter_max=100)\n",
    "weightsnorm4, factorsnorm4 = tensornorm4\n",
    "cp_reconstructionnorm4 = tl.cp_to_tensor((weightsnorm4, factorsnorm4))\n",
    "time_cp4 = time.time()-tic"
   ]
  },
  {
   "cell_type": "code",
   "execution_count": 3,
   "metadata": {},
   "outputs": [
    {
     "data": {
      "image/png": "[encoded data removed]",
      "text/plain": [
       "<Figure size 720x288 with 1 Axes>"
      ]
     },
     "metadata": {
      "needs_background": "light"
     },
     "output_type": "display_data"
    }
   ],
   "source": [
    "each_iteration(errorsnorm1, errorsnorm2, errorsnorm3, errorsnorm4)"
   ]
  },
  {
   "cell_type": "code",
   "execution_count": 4,
   "metadata": {},
   "outputs": [
    {
     "name": "stdout",
     "output_type": "stream",
     "text": [
      "[3708080.07975718  599261.99163387  665042.14098351  778898.96997353\n",
      "  570514.41018522]\n",
      "[3708080.07975732  599261.99163383  665042.14098349  778898.96997351\n",
      "  570514.41018523]\n",
      "[3708080.07975729  599261.99163389  665042.14098344  778898.96997348\n",
      "  570514.41018525]\n",
      "[3708080.0797571   599261.99163388  665042.14098356  778898.96997352\n",
      "  570514.41018525]\n"
     ]
    }
   ],
   "source": [
    "print(weightsnorm1[:5])\n",
    "print(weightsnorm2[:5])\n",
    "print(weightsnorm3[:5])\n",
    "print(weightsnorm4[:5])"
   ]
  },
  {
   "cell_type": "code",
   "execution_count": 5,
   "metadata": {},
   "outputs": [
    {
     "name": "stdout",
     "output_type": "stream",
     "text": [
      "0.06985911330268738 0.06325955745288107 0.05021446239155148\n",
      "0.06985911330268695 0.06325955745288014 0.0502144623915516\n",
      "0.06985911330268749 0.06325955745288021 0.05021446239155174\n",
      "0.06985911330268738 0.06325955745288098 0.05021446239155178\n"
     ]
    }
   ],
   "source": [
    "print(tl.mean(factorsnorm1[0]), tl.mean(factorsnorm1[1]), tl.mean(factorsnorm1[2]))\n",
    "print(tl.mean(factorsnorm2[0]), tl.mean(factorsnorm2[1]), tl.mean(factorsnorm2[2]))\n",
    "print(tl.mean(factorsnorm3[0]), tl.mean(factorsnorm3[1]), tl.mean(factorsnorm3[2]))\n",
    "print(tl.mean(factorsnorm4[0]), tl.mean(factorsnorm4[1]), tl.mean(factorsnorm4[2]))"
   ]
  },
  {
   "cell_type": "code",
   "execution_count": 6,
   "metadata": {},
   "outputs": [
    {
     "name": "stdout",
     "output_type": "stream",
     "text": [
      "254.5019016928565\n",
      "254.50190169285682\n",
      "254.50190169285665\n",
      "254.50190169285665\n"
     ]
    }
   ],
   "source": [
    "print(RMSE(tensor,cp_reconstructionnorm1))\n",
    "print(RMSE(tensor,cp_reconstructionnorm2))\n",
    "print(RMSE(tensor,cp_reconstructionnorm3))\n",
    "print(RMSE(tensor,cp_reconstructionnorm4))"
   ]
  },
  {
   "cell_type": "code",
   "execution_count": 7,
   "metadata": {},
   "outputs": [
    {
     "name": "stdout",
     "output_type": "stream",
     "text": [
      "50.09105181694031\n",
      "52.28297162055969\n",
      "52.10301899909973\n",
      "55.49078321456909\n"
     ]
    }
   ],
   "source": [
    "print(str(time_cp1))\n",
    "print(str(time_cp2))\n",
    "print(str(time_cp3))\n",
    "print(str(time_cp4))"
   ]
  }
 ],
 "metadata": {
  "kernelspec": {
   "display_name": "Python 3",
   "language": "python",
   "name": "python3"
  },
  "language_info": {
   "codemirror_mode": {
    "name": "ipython",
    "version": 3
   },
   "file_extension": ".py",
   "mimetype": "text/x-python",
   "name": "python",
   "nbconvert_exporter": "python",
   "pygments_lexer": "ipython3",
   "version": "3.8.7"
  }
 },
 "nbformat": 4,
 "nbformat_minor": 4
}
