{
 "cells": [
  {
   "cell_type": "code",
   "execution_count": 1,
   "metadata": {},
   "outputs": [
    {
     "name": "stderr",
     "output_type": "stream",
     "text": [
      "/usr/local/lib64/python3.8/site-packages/madmom/io/audio.py:493: WavFileWarning: Chunk (non-data) not understood, skipping it.\n",
      "  file_sample_rate, signal = wavfile.read(filename, mmap=True)\n",
      "/usr/local/lib64/python3.8/site-packages/numpy/core/_asarray.py:83: VisibleDeprecationWarning: Creating an ndarray from ragged nested sequences (which is a list-or-tuple of lists-or-tuples-or ndarrays with different lengths or shapes) is deprecated. If you meant to do this, you must specify 'dtype=object' when creating the ndarray\n",
      "  return array(a, dtype, copy=False, order=order)\n"
     ]
    },
    {
     "name": "stdout",
     "output_type": "stream",
     "text": [
      "hop_length a 44100Hz = 512, normal ?\n"
     ]
    }
   ],
   "source": [
    "from tensorly.metrics.regression import RMSE\n",
    "import time\n",
    "import scipy.io\n",
    "import tensorly as tl\n",
    "import matplotlib.pyplot as plt\n",
    "import matplotlib.cm as cm\n",
    "from tensorly.cp_tensor import CPTensor\n",
    "from nn_parafac_normalization_comparison import *\n",
    "import musicntd.model.features as features\n",
    "import musicntd.data_manipulation as dm\n",
    "import musicntd.tensor_factory as tf\n",
    "import soundfile as sf\n",
    "#audio\n",
    "data,sampling_rate = sf.read('/home/ctuna/tensoptly/benchmark_data/Audio/The Beatles - Come Together.wav')\n",
    "\n",
    "#Parameters\n",
    "rank=10\n",
    "init='random'\n",
    "hop_length = 512\n",
    "n_fft = hop_length * 4\n",
    "hop_length_seconds = hop_length/sampling_rate\n",
    "\n",
    "\n",
    "stft_spec = features.get_spectrogram(data[:,0], sampling_rate, \n",
    "                                     feature=\"stft\", n_fft = n_fft, hop_length = hop_length)\n",
    "bars = dm.get_bars_from_audio('/home/ctuna/tensoptly/benchmark_data/Audio/The Beatles - Come Together.wav')\n",
    "\n",
    "tensor = tf.tensorize_barwise(stft_spec, bars, hop_length_seconds, 40)"
   ]
  },
  {
   "cell_type": "markdown",
   "metadata": {},
   "source": [
    "1. Method from PR\n",
    "2. Inner loop normalization with last factor normalization after inner loop\n",
    "3. Normalization at the end\n",
    "4. 2 and 3 together"
   ]
  },
  {
   "cell_type": "code",
   "execution_count": 2,
   "metadata": {},
   "outputs": [],
   "source": [
    "#normalized improved nonnegative parafac result\n",
    "tic = time.time()\n",
    "tensornorm1, errorsnorm1 = non_negative_parafac_normalize_1(tensor, rank=rank, init=init, normalize_factors=True, return_errors=True, n_iter_max=100)\n",
    "weightsnorm1, factorsnorm1 = tensornorm1\n",
    "cp_reconstructionnorm1 = tl.cp_to_tensor((weightsnorm1, factorsnorm1))\n",
    "time_cp1 = time.time() - tic\n",
    "\n",
    "#normalized improved nonnegative parafac result\n",
    "tic = time.time()\n",
    "tensornorm2, errorsnorm2 = non_negative_parafac_normalize_2(tensor, rank=rank, init=init, normalize_factors=True, return_errors=True, n_iter_max=100)\n",
    "weightsnorm2, factorsnorm2 = tensornorm2\n",
    "cp_reconstructionnorm2 = tl.cp_to_tensor((weightsnorm2, factorsnorm2))\n",
    "time_cp2 = time.time() - tic\n",
    "\n",
    "#normalized improved nonnegative parafac result\n",
    "tic = time.time()\n",
    "tensornorm3, errorsnorm3 = non_negative_parafac_normalize_3(tensor, rank=rank, init=init, normalize_factors=True, return_errors=True, n_iter_max=100)\n",
    "weightsnorm3, factorsnorm3 = tensornorm3\n",
    "cp_reconstructionnorm3 = tl.cp_to_tensor((weightsnorm3, factorsnorm3))\n",
    "time_cp3 = time.time() - tic\n",
    "\n",
    "#normalized improved nonnegative parafac result\n",
    "tic = time.time()\n",
    "tensornorm4, errorsnorm4 = non_negative_parafac_normalize_4(tensor, rank=rank, init=init, normalize_factors=True, return_errors=True, n_iter_max=100)\n",
    "weightsnorm4, factorsnorm4 = tensornorm4\n",
    "cp_reconstructionnorm4 = tl.cp_to_tensor((weightsnorm4, factorsnorm4))\n",
    "time_cp4 = time.time() - tic"
   ]
  },
  {
   "cell_type": "code",
   "execution_count": 3,
   "metadata": {},
   "outputs": [
    {
     "data": {
      "image/png": "[encoded data removed]",
      "text/plain": [
       "<Figure size 720x288 with 1 Axes>"
      ]
     },
     "metadata": {
      "needs_background": "light"
     },
     "output_type": "display_data"
    }
   ],
   "source": [
    "each_iteration(errorsnorm1, errorsnorm2, errorsnorm3, errorsnorm4)"
   ]
  },
  {
   "cell_type": "code",
   "execution_count": 4,
   "metadata": {},
   "outputs": [
    {
     "name": "stdout",
     "output_type": "stream",
     "text": [
      "[110430.74 110948.6  124051.37 164742.27]\n",
      "[159394.56 128664.56 263034.88 131109.72]\n",
      "[170533.    90564.98 144190.38 141337.36]\n",
      "[114908.94 147556.58 195180.72 205188.89]\n"
     ]
    }
   ],
   "source": [
    "print(weightsnorm1[:4])\n",
    "print(weightsnorm2[:4])\n",
    "print(weightsnorm3[:4])\n",
    "print(weightsnorm4[:4])"
   ]
  },
  {
   "cell_type": "code",
   "execution_count": 5,
   "metadata": {},
   "outputs": [
    {
     "name": "stdout",
     "output_type": "stream",
     "text": [
      "0.0018186632 0.116908796 0.062489163\n",
      "0.0017992113 0.10538902 0.06751362\n",
      "0.0016992847 0.11373812 0.06560698\n",
      "0.0016639039 0.09900475 0.07099867\n"
     ]
    }
   ],
   "source": [
    "print(tl.mean(factorsnorm1[0]), tl.mean(factorsnorm1[1]), tl.mean(factorsnorm1[2]))\n",
    "print(tl.mean(factorsnorm2[0]), tl.mean(factorsnorm2[1]), tl.mean(factorsnorm2[2]))\n",
    "print(tl.mean(factorsnorm3[0]), tl.mean(factorsnorm3[1]), tl.mean(factorsnorm3[2]))\n",
    "print(tl.mean(factorsnorm4[0]), tl.mean(factorsnorm4[1]), tl.mean(factorsnorm4[2]))"
   ]
  },
  {
   "cell_type": "code",
   "execution_count": 6,
   "metadata": {},
   "outputs": [
    {
     "name": "stdout",
     "output_type": "stream",
     "text": [
      "172.44977\n",
      "170.43321\n",
      "172.90067\n",
      "171.73122\n"
     ]
    }
   ],
   "source": [
    "print(RMSE(tensor,cp_reconstructionnorm1))\n",
    "print(RMSE(tensor,cp_reconstructionnorm2))\n",
    "print(RMSE(tensor,cp_reconstructionnorm3))\n",
    "print(RMSE(tensor,cp_reconstructionnorm4))"
   ]
  },
  {
   "cell_type": "code",
   "execution_count": 7,
   "metadata": {},
   "outputs": [
    {
     "name": "stdout",
     "output_type": "stream",
     "text": [
      "6.3412744998931885\n",
      "6.194763422012329\n",
      "6.169338226318359\n",
      "6.481285095214844\n"
     ]
    }
   ],
   "source": [
    "print(str(time_cp1))\n",
    "print(str(time_cp2))\n",
    "print(str(time_cp3))\n",
    "print(str(time_cp4))"
   ]
  },
  {
   "cell_type": "code",
   "execution_count": null,
   "metadata": {},
   "outputs": [],
   "source": []
  }
 ],
 "metadata": {
  "kernelspec": {
   "display_name": "Python 3",
   "language": "python",
   "name": "python3"
  },
  "language_info": {
   "codemirror_mode": {
    "name": "ipython",
    "version": 3
   },
   "file_extension": ".py",
   "mimetype": "text/x-python",
   "name": "python",
   "nbconvert_exporter": "python",
   "pygments_lexer": "ipython3",
   "version": "3.8.7"
  }
 },
 "nbformat": 4,
 "nbformat_minor": 4
}
