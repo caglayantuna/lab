{
 "cells": [
  {
   "cell_type": "code",
   "execution_count": 1,
   "metadata": {},
   "outputs": [],
   "source": [
    "from tensorly.metrics.regression import RMSE\n",
    "import time\n",
    "import scipy.io\n",
    "import tensorly as tl\n",
    "import matplotlib.pyplot as plt\n",
    "import matplotlib.cm as cm\n",
    "from tensorly.cp_tensor import CPTensor\n",
    "from nn_parafac_normalization_comparison import *\n",
    "\n",
    "#parameters\n",
    "init='svd'\n",
    "svd='numpy_svd'\n",
    "rank=10\n",
    "\n",
    "#hyperspectral image\n",
    "mat = scipy.io.loadmat('/home/ctuna/tensoptly/benchmark_data/Hyperspectral/Indian_pines_corrected.mat')\n",
    "image=mat['indian_pines_corrected']\n",
    "\n",
    "tensor=tl.tensor(image,dtype='float')"
   ]
  },
  {
   "cell_type": "markdown",
   "metadata": {},
   "source": [
    "1. Method from PR\n",
    "2. Inner loop normalization with last factor normalization after inner loop\n",
    "3. Normalization at the end\n",
    "4. 2 and 3 together"
   ]
  },
  {
   "cell_type": "code",
   "execution_count": 2,
   "metadata": {},
   "outputs": [],
   "source": [
    "#normalized improved nonnegative parafac result\n",
    "tic = time.time()\n",
    "tensornorm1, errorsnorm1 = non_negative_parafac_normalize_1(tensor, rank=rank, init=init, normalize_factors=True, return_errors=True, n_iter_max=100)\n",
    "weightsnorm1, factorsnorm1 = tensornorm1\n",
    "cp_reconstructionnorm1 = tl.cp_to_tensor((weightsnorm1, factorsnorm1))\n",
    "time_cp1 = time.time() - tic\n",
    "\n",
    "#normalized improved nonnegative parafac result\n",
    "tic = time.time()\n",
    "tensornorm2, errorsnorm2 = non_negative_parafac_normalize_2(tensor, rank=rank, init=init, normalize_factors=True, return_errors=True, n_iter_max=100)\n",
    "weightsnorm2, factorsnorm2 = tensornorm2\n",
    "cp_reconstructionnorm2 = tl.cp_to_tensor((weightsnorm2, factorsnorm2))\n",
    "time_cp2 = time.time() - tic\n",
    "\n",
    "#normalized improved nonnegative parafac result\n",
    "tic = time.time()\n",
    "tensornorm3, errorsnorm3 = non_negative_parafac_normalize_3(tensor, rank=rank, init=init, normalize_factors=True, return_errors=True, n_iter_max=100)\n",
    "weightsnorm3, factorsnorm3 = tensornorm3\n",
    "cp_reconstructionnorm3 = tl.cp_to_tensor((weightsnorm3, factorsnorm3))\n",
    "time_cp3 = time.time() - tic\n",
    "\n",
    "#normalized improved nonnegative parafac result\n",
    "tic = time.time()\n",
    "tensornorm4, errorsnorm4 = non_negative_parafac_normalize_4(tensor, rank=rank, init=init, normalize_factors=True, return_errors=True, n_iter_max=100)\n",
    "weightsnorm4, factorsnorm4 = tensornorm4\n",
    "cp_reconstructionnorm4 = tl.cp_to_tensor((weightsnorm4, factorsnorm4))\n",
    "time_cp4 = time.time() - tic"
   ]
  },
  {
   "cell_type": "code",
   "execution_count": 3,
   "metadata": {},
   "outputs": [
    {
     "data": {
      "image/png": "[encoded data removed]",
      "text/plain": [
       "<Figure size 720x288 with 1 Axes>"
      ]
     },
     "metadata": {
      "needs_background": "light"
     },
     "output_type": "display_data"
    }
   ],
   "source": [
    "each_iteration(errorsnorm1, errorsnorm2, errorsnorm3, errorsnorm4)"
   ]
  },
  {
   "cell_type": "code",
   "execution_count": 4,
   "metadata": {},
   "outputs": [
    {
     "name": "stdout",
     "output_type": "stream",
     "text": [
      "[1883382.11468306 2079359.03011194 1045654.10264888  370151.78023748]\n",
      "[1883382.11468329 2079359.03011192 1045654.10264896  370151.78023748]\n",
      "[1883382.11468322 2079359.03011192 1045654.10264893  370151.78023749]\n",
      "[1883382.11468336 2079359.03011191 1045654.10264894  370151.78023751]\n"
     ]
    }
   ],
   "source": [
    "print(weightsnorm1[:4])\n",
    "print(weightsnorm2[:4])\n",
    "print(weightsnorm3[:4])\n",
    "print(weightsnorm4[:4])"
   ]
  },
  {
   "cell_type": "code",
   "execution_count": 5,
   "metadata": {},
   "outputs": [
    {
     "name": "stdout",
     "output_type": "stream",
     "text": [
      "0.07533330636454574 0.07644758324724353 0.05380005590935434\n",
      "0.07533330636454613 0.0764475832472443 0.05380005590935381\n",
      "0.07533330636454619 0.07644758324724396 0.05380005590935362\n",
      "0.07533330636454635 0.07644758324724467 0.05380005590935304\n"
     ]
    }
   ],
   "source": [
    "print(tl.mean(factorsnorm1[0]), tl.mean(factorsnorm1[1]), tl.mean(factorsnorm1[2]))\n",
    "print(tl.mean(factorsnorm2[0]), tl.mean(factorsnorm2[1]), tl.mean(factorsnorm2[2]))\n",
    "print(tl.mean(factorsnorm3[0]), tl.mean(factorsnorm3[1]), tl.mean(factorsnorm3[2]))\n",
    "print(tl.mean(factorsnorm4[0]), tl.mean(factorsnorm4[1]), tl.mean(factorsnorm4[2]))"
   ]
  },
  {
   "cell_type": "code",
   "execution_count": 6,
   "metadata": {},
   "outputs": [
    {
     "name": "stdout",
     "output_type": "stream",
     "text": [
      "341.6406575764499\n",
      "341.6406575764525\n",
      "341.6406575764509\n",
      "341.6406575764522\n"
     ]
    }
   ],
   "source": [
    "print(RMSE(tensor,cp_reconstructionnorm1))\n",
    "print(RMSE(tensor,cp_reconstructionnorm2))\n",
    "print(RMSE(tensor,cp_reconstructionnorm3))\n",
    "print(RMSE(tensor,cp_reconstructionnorm4))"
   ]
  },
  {
   "cell_type": "code",
   "execution_count": 7,
   "metadata": {},
   "outputs": [
    {
     "name": "stdout",
     "output_type": "stream",
     "text": [
      "47.713401556015015\n",
      "50.89780402183533\n",
      "53.582727909088135\n",
      "51.343518018722534\n"
     ]
    }
   ],
   "source": [
    "print(str(time_cp1))\n",
    "print(str(time_cp2))\n",
    "print(str(time_cp3))\n",
    "print(str(time_cp4))"
   ]
  },
  {
   "cell_type": "code",
   "execution_count": null,
   "metadata": {},
   "outputs": [],
   "source": []
  }
 ],
 "metadata": {
  "kernelspec": {
   "display_name": "Python 3",
   "language": "python",
   "name": "python3"
  },
  "language_info": {
   "codemirror_mode": {
    "name": "ipython",
    "version": 3
   },
   "file_extension": ".py",
   "mimetype": "text/x-python",
   "name": "python",
   "nbconvert_exporter": "python",
   "pygments_lexer": "ipython3",
   "version": "3.8.7"
  }
 },
 "nbformat": 4,
 "nbformat_minor": 4
}
