{
 "cells": [
  {
   "cell_type": "code",
   "execution_count": 1,
   "metadata": {},
   "outputs": [],
   "source": [
    "from tensorly.metrics.regression import RMSE\n",
    "from tensorly.decomposition import parafac\n",
    "import time\n",
    "import scipy.io\n",
    "import tensorly as tl\n",
    "import matplotlib.pyplot as plt\n",
    "import matplotlib.cm as cm\n",
    "from tensorly.cp_tensor import CPTensor\n",
    "from parafac_normalization_comparison import *\n",
    "\n",
    "#parameters\n",
    "init='svd'\n",
    "svd='numpy_svd'\n",
    "rank=10\n",
    "\n",
    "#hyperspectral image\n",
    "mat = scipy.io.loadmat('/home/ctuna/tensoptly/benchmark_data/Hyperspectral/Indian_pines_corrected.mat')\n",
    "image=mat['indian_pines_corrected']\n",
    "\n",
    "tensor=tl.tensor(image,dtype='float')"
   ]
  },
  {
   "cell_type": "markdown",
   "metadata": {},
   "source": [
    "1. Method from PR\n",
    "2. Inner loop normalization with last factor normalization after inner loop\n",
    "3. Normalization at the end\n",
    "4. 2 and 3 together\n",
    "5. Current tensorly normalization"
   ]
  },
  {
   "cell_type": "code",
   "execution_count": 2,
   "metadata": {},
   "outputs": [],
   "source": [
    "#normalized improved parafac result\n",
    "tic = time.time()\n",
    "tensornorm1, errorsnorm1 = parafac_normalize_1(tensor, rank=rank, init=init, normalize_factors=True, return_errors=True)\n",
    "weightsnorm1, factorsnorm1 = tensornorm1\n",
    "cp_reconstructionnorm1 = tl.cp_to_tensor((weightsnorm1, factorsnorm1))\n",
    "time_cp1 = time.time()-tic\n",
    "\n",
    "\n",
    "#normalized improved parafac result\n",
    "tic = time.time()\n",
    "tensornorm2, errorsnorm2 = parafac_normalize_2(tensor, rank=rank, init=init, normalize_factors=True, return_errors=True)\n",
    "weightsnorm2, factorsnorm2 = tensornorm2\n",
    "cp_reconstructionnorm2 = tl.cp_to_tensor((weightsnorm2, factorsnorm2))\n",
    "time_cp2 = time.time()-tic\n",
    "\n",
    "\n",
    "#normalized improved parafac result\n",
    "tic = time.time()\n",
    "tensornorm3, errorsnorm3 = parafac_normalize_3(tensor, rank=rank, init=init, normalize_factors=True, return_errors=True)\n",
    "weightsnorm3, factorsnorm3 = tensornorm3\n",
    "cp_reconstructionnorm3 = tl.cp_to_tensor((weightsnorm3, factorsnorm3))\n",
    "time_cp3 = time.time()-tic\n",
    "\n",
    "\n",
    "#normalized improved parafac result\n",
    "tic = time.time()\n",
    "tensornorm4, errorsnorm4 = parafac_normalize_4(tensor, rank=rank, init=init, normalize_factors=True, return_errors=True)\n",
    "weightsnorm4, factorsnorm4 = tensornorm4\n",
    "cp_reconstructionnorm4 = tl.cp_to_tensor((weightsnorm4, factorsnorm4))\n",
    "time_cp4 = time.time()-tic\n",
    "\n",
    "\n",
    "#normalized improved parafac result\n",
    "tic = time.time()\n",
    "tensornorm5, errorsnorm5 = parafac(tensor, rank=rank, init=init, normalize_factors=True, return_errors=True)\n",
    "weightsnorm5, factorsnorm5 = tensornorm5\n",
    "cp_reconstructionnorm5 = tl.cp_to_tensor((weightsnorm5, factorsnorm5))\n",
    "time_cp5 = time.time()-tic"
   ]
  },
  {
   "cell_type": "code",
   "execution_count": 3,
   "metadata": {},
   "outputs": [
    {
     "data": {
      "image/png": "[encoded data removed]",
      "text/plain": [
       "<Figure size 720x288 with 1 Axes>"
      ]
     },
     "metadata": {
      "needs_background": "light"
     },
     "output_type": "display_data"
    }
   ],
   "source": [
    "each_iteration(errorsnorm1, errorsnorm2, errorsnorm3, errorsnorm4, errorsnorm5)"
   ]
  },
  {
   "cell_type": "code",
   "execution_count": 4,
   "metadata": {},
   "outputs": [
    {
     "name": "stdout",
     "output_type": "stream",
     "text": [
      "[6316737.7031359   867239.70610176  505517.43297936  507516.0535534\n",
      "  443708.99404261]\n",
      "[6316737.70313704  867239.70610089  505517.43298062  507516.05355242\n",
      "  443708.99404337]\n",
      "[6316737.70313473  867239.70610081  505517.43298027  507516.05355533\n",
      "  443708.99404313]\n",
      "[6316737.70313473  867239.70610027  505517.43298098  507516.05355568\n",
      "  443708.99404389]\n",
      "[6316737.70313331  867239.70610082  505517.43298023  507516.05355739\n",
      "  443708.99404366]\n"
     ]
    }
   ],
   "source": [
    "print(weightsnorm1[:5])\n",
    "print(weightsnorm2[:5])\n",
    "print(weightsnorm3[:5])\n",
    "print(weightsnorm4[:5])\n",
    "print(weightsnorm5[:5])"
   ]
  },
  {
   "cell_type": "code",
   "execution_count": 5,
   "metadata": {},
   "outputs": [
    {
     "name": "stdout",
     "output_type": "stream",
     "text": [
      "0.018685130524119277 -0.0007419887754511859 -0.009345572902181992\n",
      "0.009992666906172678 0.0003662577407373109 0.019195302438784992\n",
      "0.004166778032385145 -0.0009399210381226816 0.007315263769328208\n",
      "-0.01536416996944234 -0.02139011094004511 0.019379980606290387\n",
      "0.004957201826646154 -0.011936754933880106 -0.015382000449337678\n"
     ]
    }
   ],
   "source": [
    "print(tl.mean(factorsnorm1[0]), tl.mean(factorsnorm1[1]), tl.mean(factorsnorm1[2]))\n",
    "print(tl.mean(factorsnorm2[0]), tl.mean(factorsnorm2[1]), tl.mean(factorsnorm2[2]))\n",
    "print(tl.mean(factorsnorm3[0]), tl.mean(factorsnorm3[1]), tl.mean(factorsnorm3[2]))\n",
    "print(tl.mean(factorsnorm4[0]), tl.mean(factorsnorm4[1]), tl.mean(factorsnorm4[2]))\n",
    "print(tl.mean(factorsnorm5[0]), tl.mean(factorsnorm5[1]), tl.mean(factorsnorm5[2]))"
   ]
  },
  {
   "cell_type": "code",
   "execution_count": 6,
   "metadata": {},
   "outputs": [
    {
     "name": "stdout",
     "output_type": "stream",
     "text": [
      "238.75580985788972\n",
      "238.75580985789068\n",
      "238.75580985789423\n",
      "238.75580985789554\n",
      "238.75580985789625\n"
     ]
    }
   ],
   "source": [
    "print(RMSE(tensor,cp_reconstructionnorm1))\n",
    "print(RMSE(tensor,cp_reconstructionnorm2))\n",
    "print(RMSE(tensor,cp_reconstructionnorm3))\n",
    "print(RMSE(tensor,cp_reconstructionnorm4))\n",
    "print(RMSE(tensor,cp_reconstructionnorm5))"
   ]
  },
  {
   "cell_type": "code",
   "execution_count": 7,
   "metadata": {},
   "outputs": [
    {
     "name": "stdout",
     "output_type": "stream",
     "text": [
      "47.64624547958374\n",
      "47.95656371116638\n",
      "48.25987267494202\n",
      "48.43886160850525\n",
      "48.37540864944458\n"
     ]
    }
   ],
   "source": [
    "print(str(time_cp1))\n",
    "print(str(time_cp2))\n",
    "print(str(time_cp3))\n",
    "print(str(time_cp4))\n",
    "print(str(time_cp5))"
   ]
  }
 ],
 "metadata": {
  "kernelspec": {
   "display_name": "Python 3",
   "language": "python",
   "name": "python3"
  },
  "language_info": {
   "codemirror_mode": {
    "name": "ipython",
    "version": 3
   },
   "file_extension": ".py",
   "mimetype": "text/x-python",
   "name": "python",
   "nbconvert_exporter": "python",
   "pygments_lexer": "ipython3",
   "version": "3.8.7"
  }
 },
 "nbformat": 4,
 "nbformat_minor": 4
}
